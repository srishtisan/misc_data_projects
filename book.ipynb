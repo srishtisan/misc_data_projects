{
 "cells": [
  {
   "cell_type": "markdown",
   "metadata": {},
   "source": [
    "# Book -> Assignment 1 \n",
    "## Srishti Sanya\n",
    "\n",
    "What are the most frequently used color terms in 'The Great Gatsby'?\n",
    "\n",
    "As an American classic whose themes and language are heavily rooted in color and the perception of color, I wanted to see what the most common color terms and themes are across the entire novel."
   ]
  },
  {
   "cell_type": "code",
   "execution_count": 302,
   "metadata": {
    "collapsed": true
   },
   "outputs": [],
   "source": [
    "from collections import Counter\n",
    "\n",
    "file = open('gatsby.txt', 'r')\n",
    "full_text = file.read().lower().split()"
   ]
  },
  {
   "cell_type": "markdown",
   "metadata": {},
   "source": [
    "In the following cell, I create a compilation of all the punctuation I want to get rid of, and use the `strip_p` function to strip all punctuation from a single \"word\". The `strip_p(s)` is then run on all the entries in the full_text list. \n",
    "\n",
    "Hyphens must be removed first because the rest of the function replaces punctuation with \"\", whereas hyphens usually need to be replaced with a space. Thus, I replace all the hyphens first, then strip the rest of the punctuation as usual."
   ]
  },
  {
   "cell_type": "code",
   "execution_count": 296,
   "metadata": {
    "collapsed": true
   },
   "outputs": [],
   "source": [
    "punctuation = '''!()-[]{};:'\"\\,<>./?@#$%^&*_~'''\n",
    "\n",
    "def strip_p(s):\n",
    "    revised= \"\"\n",
    "    s = s.replace('-',' ')\n",
    "    for char in s:\n",
    "        if char not in punctuation:\n",
    "            revised = revised + char\n",
    "    return revised\n",
    "            "
   ]
  },
  {
   "cell_type": "code",
   "execution_count": 303,
   "metadata": {
    "scrolled": true
   },
   "outputs": [
    {
     "name": "stdout",
     "output_type": "stream",
     "text": [
      "gold hatted\n"
     ]
    },
    {
     "data": {
      "text/plain": [
       "48446"
      ]
     },
     "execution_count": 303,
     "metadata": {},
     "output_type": "execute_result"
    }
   ],
   "source": [
    "# testing strip_p\n",
    "\n",
    "st = \"gold-hatted\"\n",
    "st = strip_p(st)\n",
    "print(st)\n",
    "\n",
    "len(full_text)\n"
   ]
  },
  {
   "cell_type": "code",
   "execution_count": 299,
   "metadata": {
    "collapsed": true
   },
   "outputs": [],
   "source": [
    "for i in range(len(full_text)):\n",
    "    full_text[i] = strip_p(full_text[i])\n",
    "    "
   ]
  },
  {
   "cell_type": "code",
   "execution_count": 300,
   "metadata": {
    "collapsed": true
   },
   "outputs": [],
   "source": [
    "counts = {'gold': 0, 'white':0, 'blue':0, 'silver':0, 'grey':0, 'red':0, 'pink':0, 'orange':0, 'yellow':0, 'black':0, 'green':0, 'purple':0}\n",
    "for word in full_text:\n",
    "    if 'gold' in word:\n",
    "        counts['gold'] += 1\n",
    "    elif 'blue' in word:\n",
    "        counts['blue'] += 1\n",
    "    elif word == 'red' or word == 'rouge':\n",
    "        counts['red'] +=1\n",
    "    elif 'yellow' in word:\n",
    "        counts['yellow'] += 1\n",
    "    elif 'black' in word:\n",
    "        counts['black'] += 1\n",
    "    elif 'white' in word:\n",
    "        counts['white'] += 1\n",
    "    elif 'orange' in word:\n",
    "        counts['orange'] += 1\n",
    "    elif 'silver' in word:\n",
    "        counts['silver'] += 1\n",
    "    elif 'grey' in word:\n",
    "        counts['grey'] += 1\n",
    "    elif 'pink' in word:\n",
    "        counts['pink'] += 1\n",
    "    elif 'green' in word or 'emerald' in word:\n",
    "        counts['green'] += 1\n",
    "    elif 'lavender' in word or 'purple' in word or 'violet' in word:\n",
    "        counts['purple'] += 1\n",
    "    "
   ]
  },
  {
   "cell_type": "markdown",
   "metadata": {},
   "source": [
    "You'll notice that I checked if colors were in the word to account for vairations such as \"yellowed\" and \"golden\", but kept red as an exact match requirement. -red is a common suffix (desired, suffered, etc.) so I manually looked at the text and found no use of \"reddened\", \"reddish\" terminology, so I just looked for red matches. \n",
    "\n",
    "I also combined several similar colors in some categories to avoid an overwhelming number of results. \n",
    "\n",
    "I will admit this is not an exhaustive list of colors, but I attempeted to cover most colors with thematic relevance that I remembered cropping up while I read the book. \n",
    "\n",
    "I broke apart yellow/gold and silver/grey because each word in the pair tends to represent different themes and significance in the novel. "
   ]
  },
  {
   "cell_type": "code",
   "execution_count": 301,
   "metadata": {},
   "outputs": [
    {
     "name": "stdout",
     "output_type": "stream",
     "text": [
      "Color category breakdown:\n",
      "GOLD: 15\n",
      "WHITE: 50\n",
      "BLUE: 22\n",
      "SILVER: 11\n",
      "GREY: 17\n",
      "RED: 8\n",
      "PINK: 6\n",
      "ORANGE: 4\n",
      "YELLOW: 24\n",
      "BLACK: 13\n",
      "GREEN: 19\n",
      "PURPLE: 6\n"
     ]
    }
   ],
   "source": [
    "print(\"Color category breakdown:\")\n",
    "\n",
    "for i in counts:\n",
    "    print(i.upper() + \": \" + str(counts[i]))\n",
    "\n"
   ]
  },
  {
   "cell_type": "markdown",
   "metadata": {},
   "source": [
    "We see that white appears in the book far more than the next most frequent color, yellow. \n",
    "Then in order, we see blue, green, grey, gold, black, silver, red, pink/purple, orange. This makes sense, as white is often used as a symbol of true wealth and purity, while yellow is often used to communicate fake wealth and is associated with Daisy Buchanan.\n",
    "\n",
    "I was surprised that blue occurred so frequently, as I assumed green would have taken next on the list as the green dock light is one of the more prominent symbols in the book."
   ]
  },
  {
   "cell_type": "code",
   "execution_count": null,
   "metadata": {
    "collapsed": true
   },
   "outputs": [],
   "source": []
  }
 ],
 "metadata": {
  "kernelspec": {
   "display_name": "Python 3",
   "language": "python",
   "name": "python3"
  },
  "language_info": {
   "codemirror_mode": {
    "name": "ipython",
    "version": 3
   },
   "file_extension": ".py",
   "mimetype": "text/x-python",
   "name": "python",
   "nbconvert_exporter": "python",
   "pygments_lexer": "ipython3",
   "version": "3.6.3"
  }
 },
 "nbformat": 4,
 "nbformat_minor": 2
}
